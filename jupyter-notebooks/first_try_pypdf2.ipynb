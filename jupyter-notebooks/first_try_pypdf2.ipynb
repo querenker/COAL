{
 "cells": [
  {
   "cell_type": "code",
   "execution_count": 1,
   "metadata": {
    "collapsed": false
   },
   "outputs": [],
   "source": [
    "from PyPDF2 import PdfFileReader"
   ]
  },
  {
   "cell_type": "code",
   "execution_count": 2,
   "metadata": {
    "collapsed": false
   },
   "outputs": [],
   "source": [
    "pdf_reader = PdfFileReader(open('homework06.pdf', 'rb'))"
   ]
  },
  {
   "cell_type": "code",
   "execution_count": 3,
   "metadata": {
    "collapsed": false
   },
   "outputs": [
    {
     "data": {
      "text/plain": [
       "{'/Author': '',\n",
       " '/CreationDate': \"D:20160517150459+02'00'\",\n",
       " '/Creator': 'LaTeX with hyperref package',\n",
       " '/Keywords': '',\n",
       " '/ModDate': \"D:20160517150459+02'00'\",\n",
       " '/PTEX.Fullbanner': 'This is pdfTeX, Version 3.14159265-2.6-1.40.16 (TeX Live 2015) kpathsea version 6.2.1',\n",
       " '/Producer': 'pdfTeX-1.40.16',\n",
       " '/Subject': '',\n",
       " '/Title': '',\n",
       " '/Trapped': '/False'}"
      ]
     },
     "execution_count": 3,
     "metadata": {},
     "output_type": "execute_result"
    }
   ],
   "source": [
    "pdf_reader.getDocumentInfo()"
   ]
  },
  {
   "cell_type": "code",
   "execution_count": 4,
   "metadata": {
    "collapsed": false
   },
   "outputs": [
    {
     "data": {
      "text/plain": [
       "2"
      ]
     },
     "execution_count": 4,
     "metadata": {},
     "output_type": "execute_result"
    }
   ],
   "source": [
    "pdf_reader.getNumPages()"
   ]
  },
  {
   "cell_type": "code",
   "execution_count": 5,
   "metadata": {
    "collapsed": false
   },
   "outputs": [
    {
     "data": {
      "text/plain": [
       "'TobiasFriedrich,AntonKrohmerSommersemester16\\n\\nUbungsblatt06{TheoretischeInformatikII\\nAbgabe24.05.2016vor\\nderVorlesung,im\\nVorlesungsraum\\nSchreibenSieaufIhreAbgabe\\nIhrenNamen\\n,undzu\\nwelcher\\n\\nUbungsgruppe\\nSiegehen.AlleAntwortenm\\n\\nussennachvollziehbarsein.Begr\\n\\nundenSiedaherIhre\\nErgebnisseundschreibenSiestrukturierteBeweise.\\nHinweis:\\nBittebeachtenSie,dassdieKnobelaufgabenerbrachtePr\\n\\nufungsleistungen\\nsind.Diesbedeutetinsbesondere,dasseineEigenleistungvonIhnenerwartetwird,\\ndie\\n\\nuberguteGoogle-F\\n\\nahigkeitenhinausgeht.\\nErinnerung:\\nDiesistdasletzte\\n\\nUbungsblattdererstenVorlesungsh\\n\\nalfte.Aufdie-\\nsemBlattsindmehrals16Punktezuerreichen.Sieben\\n\\notigenausdenBl\\n\\nattern1-6\\ninsgesamt48PunktezurZulassung.\\nVorbereitung.\\nArbeitenSiedieUnitzuKellerautomatenunter\\nhttps://hpi.de/\\nen/friedrich/teaching/units/kellerautomaten.html\\ndurch.\\nAufgabe1.\\n(4Punkte)\\n(a)\\nVerwandelnSiedenfolgendenAutomatenineinen\\n\\naquivalentenregul\\n\\naren\\nAusdruck.VerwendenSiedabeidieKonstruktionausderVorlesung.\\n(b)\\nKonstruierenSiezufolgendemnichtdeterministischenendlichenAutomaten\\neinen\\n\\naquivalentendeterministischenAutomaten,indemSiedieKonstruktion\\nausderVorlesunganwenden.\\n1\\n'"
      ]
     },
     "execution_count": 5,
     "metadata": {},
     "output_type": "execute_result"
    }
   ],
   "source": [
    "first_page = pdf_reader.getPage(0)\n",
    "first_page.extractText()"
   ]
  },
  {
   "cell_type": "code",
   "execution_count": null,
   "metadata": {
    "collapsed": true
   },
   "outputs": [],
   "source": []
  }
 ],
 "metadata": {
  "kernelspec": {
   "display_name": "Python 3",
   "language": "python",
   "name": "python3"
  },
  "language_info": {
   "codemirror_mode": {
    "name": "ipython",
    "version": 3
   },
   "file_extension": ".py",
   "mimetype": "text/x-python",
   "name": "python",
   "nbconvert_exporter": "python",
   "pygments_lexer": "ipython3",
   "version": "3.5.1"
  }
 },
 "nbformat": 4,
 "nbformat_minor": 0
}
