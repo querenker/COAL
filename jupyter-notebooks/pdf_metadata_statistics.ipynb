{
 "cells": [
  {
   "cell_type": "code",
   "execution_count": 7,
   "metadata": {
    "collapsed": false
   },
   "outputs": [],
   "source": [
    "%matplotlib inline\n",
    "\n",
    "import google\n",
    "import urllib.request\n",
    "\n",
    "opener = urllib.request.build_opener()\n",
    "opener.addheaders = [('User-agent', 'Mozilla/5.0')]"
   ]
  },
  {
   "cell_type": "code",
   "execution_count": 8,
   "metadata": {
    "collapsed": false
   },
   "outputs": [],
   "source": [
    "from socket import timeout\n",
    "from urllib.error import HTTPError, URLError\n",
    "\n",
    "def download_pdf(pdf_url):\n",
    "    filename = pdf_url.split('/')[-1]\n",
    "    try:\n",
    "        pdf_file = urllib.request.urlopen(pdf_url)\n",
    "    except (HTTPError, URLError, timeout):\n",
    "        return\n",
    "    with open('pdfs/' + filename, 'wb') as file:\n",
    "        file.write(pdf_file.read())"
   ]
  },
  {
   "cell_type": "code",
   "execution_count": 15,
   "metadata": {
    "collapsed": false
   },
   "outputs": [],
   "source": [
    "keyword = 'cat filetype:pdf'\n",
    "\n",
    "for url in google.search(keyword, num=200, stop=1):\n",
    "    try:\n",
    "        download_pdf(url)\n",
    "    except:\n",
    "        continue"
   ]
  },
  {
   "cell_type": "code",
   "execution_count": 32,
   "metadata": {
    "collapsed": false
   },
   "outputs": [
    {
     "name": "stderr",
     "output_type": "stream",
     "text": [
      "PdfReadWarning: Xref table not zero-indexed. ID numbers for objects will be corrected. [pdf.py:1736]\n"
     ]
    }
   ],
   "source": [
    "from PyPDF2 import PdfFileReader\n",
    "import os\n",
    "\n",
    "pdf_page_numbers = list()\n",
    "author_included = list()\n",
    "authors = list()\n",
    "\n",
    "pdf_directory = './pdfs/'\n",
    "\n",
    "for pdf_file in os.listdir(pdf_directory):\n",
    "    try:\n",
    "        pdf_reader = PdfFileReader(open(pdf_directory + pdf_file, 'rb'))\n",
    "        pdf_page_numbers.append(pdf_reader.getNumPages())\n",
    "        author_included.append(pdf_reader.documentInfo.author is not None)\n",
    "        if pdf_reader.documentInfo.author is not None:\n",
    "            authors.append(pdf_reader.documentInfo.author)\n",
    "    except:\n",
    "        continue"
   ]
  },
  {
   "cell_type": "code",
   "execution_count": 29,
   "metadata": {
    "collapsed": false
   },
   "outputs": [
    {
     "data": {
      "text/plain": [
       "83"
      ]
     },
     "execution_count": 29,
     "metadata": {},
     "output_type": "execute_result"
    }
   ],
   "source": [
    "len(author_included)"
   ]
  },
  {
   "cell_type": "code",
   "execution_count": 30,
   "metadata": {
    "collapsed": false
   },
   "outputs": [
    {
     "data": {
      "image/png": "[encoded data removed]",
      "text/plain": [
       "<matplotlib.figure.Figure at 0x109556780>"
      ]
     },
     "metadata": {},
     "output_type": "display_data"
    }
   ],
   "source": [
    "import matplotlib.pyplot as plt\n",
    "import numpy as np\n",
    "\n",
    "y = np.array(pdf_page_numbers)\n",
    "plt.hist(y);\n",
    "plt.show()"
   ]
  },
  {
   "cell_type": "code",
   "execution_count": 31,
   "metadata": {
    "collapsed": false
   },
   "outputs": [
    {
     "data": {
      "image/png": "[encoded data removed]",
      "text/plain": [
       "<matplotlib.figure.Figure at 0x109556320>"
      ]
     },
     "metadata": {},
     "output_type": "display_data"
    }
   ],
   "source": [
    "labels = 'Author given', 'Author not given'\n",
    "sizes = [sum(author_included) / len(author_included), 1 - sum(author_included) / len(author_included)]\n",
    "colors = ['yellowgreen', 'mediumpurple']\n",
    "\n",
    "plt.pie(sizes,  \n",
    "        labels=labels,\n",
    "        colors=colors,\n",
    "        autopct='%1.1f%%',\n",
    "        shadow=True,\n",
    "        startangle=70\n",
    "        )\n",
    "\n",
    "plt.axis('equal')\n",
    "plt.show()"
   ]
  },
  {
   "cell_type": "code",
   "execution_count": 33,
   "metadata": {
    "collapsed": false
   },
   "outputs": [
    {
     "data": {
      "text/plain": [
       "['Office of Parliamentary Counsel',\n",
       " 'Corigan #1',\n",
       " 'Christoph Schubert',\n",
       " 'BENTEJAC CHRISTOPHE',\n",
       " 'Edgar Allan Poe',\n",
       " 'Ron Eichholtz',\n",
       " 'P',\n",
       " 'Heike Pahlow',\n",
       " 'Corvalan Bounkham',\n",
       " 'Amadeu',\n",
       " 'Morgan, Frank',\n",
       " 'Daniel Caturana, David Furry',\n",
       " 'wb76423',\n",
       " 'LEMO SA, info@lemo.com',\n",
       " 'The Department of Health and Human Services',\n",
       " 'lfink',\n",
       " 'Jonathan Sterne',\n",
       " 'evaan',\n",
       " 'willy.sigl@easa.europa.eu',\n",
       " 'Karen',\n",
       " 'Gerald L. Bruns',\n",
       " 'eguise',\n",
       " '',\n",
       " 'Juliana',\n",
       " 'Brenda Griffin',\n",
       " 'mjbain',\n",
       " 'cbuffing',\n",
       " 'Preferred Customer',\n",
       " 'Marc Prior',\n",
       " 'Defra',\n",
       " 'John Ranson',\n",
       " 'BThalman',\n",
       " 'PTSGI',\n",
       " 'Michelle',\n",
       " '',\n",
       " 'SN',\n",
       " 'HFV-110',\n",
       " 'IIDA',\n",
       " 'Jim']"
      ]
     },
     "execution_count": 33,
     "metadata": {},
     "output_type": "execute_result"
    }
   ],
   "source": [
    "authors"
   ]
  },
  {
   "cell_type": "code",
   "execution_count": 34,
   "metadata": {
    "collapsed": false
   },
   "outputs": [
    {
     "name": "stdout",
     "output_type": "stream",
     "text": [
      "Counter({'': 2, 'Michelle': 1, 'Amadeu': 1, 'Gerald L. Bruns': 1, 'mjbain': 1, 'The Department of Health and Human Services': 1, 'Morgan, Frank': 1, 'BENTEJAC CHRISTOPHE': 1, 'SN': 1, 'Edgar Allan Poe': 1, 'Corigan #1': 1, 'Heike Pahlow': 1, 'willy.sigl@easa.europa.eu': 1, 'Juliana': 1, 'LEMO SA, info@lemo.com': 1, 'eguise': 1, 'cbuffing': 1, 'Jim': 1, 'BThalman': 1, 'Office of Parliamentary Counsel': 1, 'John Ranson': 1, 'PTSGI': 1, 'wb76423': 1, 'P': 1, 'evaan': 1, 'lfink': 1, 'Christoph Schubert': 1, 'Karen': 1, 'Corvalan Bounkham': 1, 'IIDA': 1, 'Preferred Customer': 1, 'Daniel Caturana, David Furry': 1, 'Ron Eichholtz': 1, 'Marc Prior': 1, 'Defra': 1, 'Jonathan Sterne': 1, 'HFV-110': 1, 'Brenda Griffin': 1})\n"
     ]
    }
   ],
   "source": [
    "from collections import Counter\n",
    "\n",
    "print(Counter(authors))"
   ]
  },
  {
   "cell_type": "code",
   "execution_count": null,
   "metadata": {
    "collapsed": true
   },
   "outputs": [],
   "source": []
  }
 ],
 "metadata": {
  "kernelspec": {
   "display_name": "Python 3",
   "language": "python",
   "name": "python3"
  },
  "language_info": {
   "codemirror_mode": {
    "name": "ipython",
    "version": 3
   },
   "file_extension": ".py",
   "mimetype": "text/x-python",
   "name": "python",
   "nbconvert_exporter": "python",
   "pygments_lexer": "ipython3",
   "version": "3.5.1"
  }
 },
 "nbformat": 4,
 "nbformat_minor": 0
}
