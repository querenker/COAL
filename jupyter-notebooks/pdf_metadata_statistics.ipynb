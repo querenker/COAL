{
 "cells": [
  {
   "cell_type": "code",
   "execution_count": 1,
   "metadata": {
    "collapsed": true
   },
   "outputs": [],
   "source": [
    "%matplotlib inline\n",
    "\n",
    "from bs4 import BeautifulSoup\n",
    "import urllib.request\n",
    "\n",
    "opener = urllib.request.build_opener()\n",
    "opener.addheaders = [('User-agent', 'Mozilla/5.0')]"
   ]
  },
  {
   "cell_type": "code",
   "execution_count": 2,
   "metadata": {
    "collapsed": false
   },
   "outputs": [],
   "source": [
    "def build_search_url(keyword, sitenumber, filetype):\n",
    "    return 'http://www.google.com/search?q={}+filetype:{}&start={}'.format(keyword, filetype, sitenumber * 10)"
   ]
  },
  {
   "cell_type": "code",
   "execution_count": 3,
   "metadata": {
    "collapsed": false
   },
   "outputs": [],
   "source": [
    "keyword = 'cat'\n",
    "pdf_urls = list()\n",
    "\n",
    "for i in range(20):\n",
    "    search_url = build_search_url(keyword, i, 'pdf')\n",
    "    search_page = opener.open(search_url)\n",
    "    soup = BeautifulSoup(search_page, \"lxml\")\n",
    "    for url in soup.findAll('cite'):\n",
    "        if url.text.endswith('pdf') and url.text.startswith('www') and '...' not in url.text:\n",
    "            pdf_urls.append('http://' + url.text)"
   ]
  },
  {
   "cell_type": "code",
   "execution_count": 4,
   "metadata": {
    "collapsed": false
   },
   "outputs": [],
   "source": [
    "from socket import timeout\n",
    "from urllib.error import HTTPError, URLError\n",
    "\n",
    "def download_pdf(pdf_url):\n",
    "    filename = pdf_url.split('/')[-1]\n",
    "    try:\n",
    "        pdf_file = urllib.request.urlopen(pdf_url)\n",
    "    except (HTTPError, URLError, timeout):\n",
    "        return\n",
    "    with open('pdfs/' + filename, 'wb') as file:\n",
    "        file.write(pdf_file.read())"
   ]
  },
  {
   "cell_type": "code",
   "execution_count": 5,
   "metadata": {
    "collapsed": false
   },
   "outputs": [],
   "source": [
    "for pdf_url in pdf_urls:\n",
    "    download_pdf(pdf_url)"
   ]
  },
  {
   "cell_type": "code",
   "execution_count": 6,
   "metadata": {
    "collapsed": false
   },
   "outputs": [
    {
     "name": "stderr",
     "output_type": "stream",
     "text": [
      "PdfReadWarning: Xref table not zero-indexed. ID numbers for objects will be corrected. [pdf.py:1736]\n"
     ]
    }
   ],
   "source": [
    "from PyPDF2 import PdfFileReader\n",
    "import os\n",
    "\n",
    "pdf_page_numbers = list()\n",
    "author_included = list()\n",
    "\n",
    "pdf_directory = './pdfs/'\n",
    "\n",
    "for pdf_file in os.listdir(pdf_directory):\n",
    "    try:\n",
    "        pdf_reader = PdfFileReader(open(pdf_directory + pdf_file, 'rb'))\n",
    "    except:\n",
    "        continue\n",
    "    pdf_page_numbers.append(pdf_reader.getNumPages())\n",
    "    author_included.append(pdf_reader.documentInfo.author is not None)"
   ]
  },
  {
   "cell_type": "code",
   "execution_count": null,
   "metadata": {
    "collapsed": false
   },
   "outputs": [],
   "source": [
    "author_included"
   ]
  },
  {
   "cell_type": "code",
   "execution_count": 7,
   "metadata": {
    "collapsed": false
   },
   "outputs": [
    {
     "data": {
      "image/png": "[encoded data removed]",
      "text/plain": [
       "<matplotlib.figure.Figure at 0x1088a09b0>"
      ]
     },
     "metadata": {},
     "output_type": "display_data"
    }
   ],
   "source": [
    "import matplotlib.pyplot as plt\n",
    "import numpy as np\n",
    "\n",
    "y = np.array(pdf_page_numbers)\n",
    "plt.hist(y);\n",
    "plt.show()"
   ]
  },
  {
   "cell_type": "code",
   "execution_count": 8,
   "metadata": {
    "collapsed": false
   },
   "outputs": [
    {
     "data": {
      "image/png": "[encoded data removed]",
      "text/plain": [
       "<matplotlib.figure.Figure at 0x1084830f0>"
      ]
     },
     "metadata": {},
     "output_type": "display_data"
    }
   ],
   "source": [
    "labels = 'Author given', 'Author not given'\n",
    "sizes = [sum(author_included) / len(author_included), 1 - sum(author_included) / len(author_included)]\n",
    "colors = ['yellowgreen', 'mediumpurple']\n",
    "\n",
    "plt.pie(sizes,  \n",
    "        labels=labels,\n",
    "        colors=colors,\n",
    "        autopct='%1.1f%%',\n",
    "        shadow=True,\n",
    "        startangle=70\n",
    "        )\n",
    "\n",
    "plt.axis('equal')\n",
    "plt.show()"
   ]
  }
 ],
 "metadata": {
  "kernelspec": {
   "display_name": "Python 3",
   "language": "python",
   "name": "python3"
  },
  "language_info": {
   "codemirror_mode": {
    "name": "ipython",
    "version": 3
   },
   "file_extension": ".py",
   "mimetype": "text/x-python",
   "name": "python",
   "nbconvert_exporter": "python",
   "pygments_lexer": "ipython3",
   "version": "3.5.1"
  }
 },
 "nbformat": 4,
 "nbformat_minor": 0
}
