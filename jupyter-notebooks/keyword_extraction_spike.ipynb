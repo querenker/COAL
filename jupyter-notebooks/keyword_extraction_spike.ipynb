{
 "cells": [
  {
   "cell_type": "code",
   "execution_count": 13,
   "metadata": {
    "collapsed": false
   },
   "outputs": [
    {
     "name": "stdout",
     "output_type": "stream",
     "text": [
      "showing info http://www.nltk.org/nltk_data/\n"
     ]
    },
    {
     "data": {
      "text/plain": [
       "True"
      ]
     },
     "execution_count": 13,
     "metadata": {},
     "output_type": "execute_result"
    }
   ],
   "source": [
    "import nltk\n",
    "\n",
    "# ToDo: Load only needed packages\n",
    "nltk.download()"
   ]
  },
  {
   "cell_type": "code",
   "execution_count": 54,
   "metadata": {
    "collapsed": true
   },
   "outputs": [],
   "source": [
  
   ]
  },
  {
   "cell_type": "code",
   "execution_count": 49,
   "metadata": {
    "collapsed": true
   },
   "outputs": [],
   "source": [

   ]
  },
  {
   "cell_type": "code",
   "execution_count": 51,
   "metadata": {
    "collapsed": true
   },
   "outputs": [],
   "source": [
   
   ]
  },
  {
   "cell_type": "code",
   "execution_count": 52,
   "metadata": {
    "collapsed": true
   },
   "outputs": [],
   "source": [
   
   ]
  },
  {
   "cell_type": "code",
   "execution_count": 55,
   "metadata": {
    "collapsed": false
   },
   "outputs": [],
   "source": [
    "texts = [text1, text2, text3, text4, text5]"
   ]
  },
  {
   "cell_type": "code",
   "execution_count": 47,
   "metadata": {
    "collapsed": false,
    "scrolled": true
   },
   "outputs": [],
   "source": [
    "import string\n",
    "from functools import reduce\n",
    "\n",
    "def extract_possible_keywords(text):\n",
    "    good_tags = {'JJ','JJR','JJS','NN','NNP','NNS','NNPS'}\n",
    "    stop_words = set(nltk.corpus.stopwords.words('english')).union(string.punctuation)\n",
    "    \n",
    "    tagged_words = reduce(lambda x,y: x + y, (nltk.pos_tag_sents(nltk.word_tokenize(sent) for sent in nltk.sent_tokenize(text))))\n",
    "    return [word.lower() for word, tag in tagged_words\n",
    "                  if tag in good_tags and word.lower() not in stop_words]"
   ]
  },
  {
   "cell_type": "code",
   "execution_count": 48,
   "metadata": {
    "collapsed": false
   },
   "outputs": [
    {
     "data": {
      "text/plain": [
       "['text',\n",
       " 'mining',\n",
       " 'discovery',\n",
       " 'extraction',\n",
       " 'interesting',\n",
       " 'non-trivial',\n",
       " 'knowledge',\n",
       " 'free',\n",
       " 'unstructured',\n",
       " 'text',\n",
       " 'everything',\n",
       " 'information',\n",
       " 'retrieval',\n",
       " 'document',\n",
       " 'web',\n",
       " 'site',\n",
       " 'retrieval',\n",
       " 'classification',\n",
       " 'clustering',\n",
       " 'entity',\n",
       " 'relation',\n",
       " 'event',\n",
       " 'extraction',\n",
       " 'natural',\n",
       " 'language',\n",
       " 'processing',\n",
       " 'nlp',\n",
       " 'attempt',\n",
       " 'fuller',\n",
       " 'representation',\n",
       " 'free',\n",
       " 'text',\n",
       " 'nlp',\n",
       " 'use',\n",
       " 'linguistic',\n",
       " 'concepts',\n",
       " 'part-of-speech',\n",
       " 'noun',\n",
       " 'verb',\n",
       " 'adjective',\n",
       " 'grammatical',\n",
       " 'structure',\n",
       " 'phrases',\n",
       " 'noun',\n",
       " 'phrase',\n",
       " 'prepositional',\n",
       " 'phrase',\n",
       " 'dependency',\n",
       " 'relations',\n",
       " 'subject-of',\n",
       " 'object-of',\n",
       " 'anaphora',\n",
       " 'previous',\n",
       " 'noun',\n",
       " 'pronoun',\n",
       " 'back-referring',\n",
       " 'phrase',\n",
       " 'correspond',\n",
       " 'ambiguities',\n",
       " 'words',\n",
       " 'grammatical',\n",
       " 'structure',\n",
       " 'word',\n",
       " 'prepositional',\n",
       " 'phrase',\n",
       " 'use',\n",
       " 'various',\n",
       " 'knowledge',\n",
       " 'representations',\n",
       " 'lexicon',\n",
       " 'words',\n",
       " 'meanings',\n",
       " 'grammatical',\n",
       " 'properties',\n",
       " 'set',\n",
       " 'grammar',\n",
       " 'rules',\n",
       " 'resources',\n",
       " 'ontology',\n",
       " 'entities',\n",
       " 'actions',\n",
       " 'thesaurus',\n",
       " 'synonyms',\n",
       " 'abbreviations',\n",
       " 'book',\n",
       " 'several',\n",
       " 'purposes',\n",
       " 'use',\n",
       " 'nlp',\n",
       " 'techniques',\n",
       " 'text',\n",
       " 'mining',\n",
       " 'technologies',\n",
       " 'novel',\n",
       " 'field',\n",
       " 'text',\n",
       " 'mining',\n",
       " 'second',\n",
       " 'novel',\n",
       " 'ways',\n",
       " 'various',\n",
       " 'technologies',\n",
       " 'old',\n",
       " 'new',\n",
       " 'text',\n",
       " 'mining',\n",
       " 'problem',\n",
       " 'next',\n",
       " 'new',\n",
       " 'applications',\n",
       " 'text',\n",
       " 'mining',\n",
       " 'several',\n",
       " 'chapters',\n",
       " 'various',\n",
       " 'techniques',\n",
       " 'text',\n",
       " 'mining',\n",
       " 'nlp',\n",
       " 'enhancements',\n",
       " 'techniques']"
      ]
     },
     "execution_count": 48,
     "metadata": {},
     "output_type": "execute_result"
    }
   ],
   "source": [
    "extract_possible_keywords(text)"
   ]
  },
  {
   "cell_type": "code",
   "execution_count": 59,
   "metadata": {
    "collapsed": false
   },
   "outputs": [],
   "source": [
    "import gensim\n",
    "\n",
    "def evaluate_possible_keywords(texts):\n",
    "    boc_texts = [extract_possible_keywords(text) for text in texts]\n",
    "    dictionary = gensim.corpora.Dictionary(boc_texts)\n",
    "    corpus = [dictionary.doc2bow(boc_text) for boc_text in boc_texts]\n",
    "    \n",
    "    tfidf = gensim.models.TfidfModel(corpus)\n",
    "    corpus_tfidf = tfidf[corpus]\n",
    "    \n",
    "    return corpus_tfidf, dictionary"
   ]
  },
  {
   "cell_type": "code",
   "execution_count": 96,
   "metadata": {
    "collapsed": false
   },
   "outputs": [],
   "source": [
    "tfidf_matrix, word_mapping = evaluate_possible_keywords(texts)"
   ]
  },
  {
   "cell_type": "code",
   "execution_count": 100,
   "metadata": {
    "collapsed": false
   },
   "outputs": [
    {
     "data": {
      "text/plain": [
       "['concepts', 'field', 'word', 'processing', 'web']"
      ]
     },
     "execution_count": 100,
     "metadata": {},
     "output_type": "execute_result"
    }
   ],
   "source": [
    "from operator import itemgetter\n",
    "\n",
    "[word_mapping[word_id] for word_id, tfidf_value in sorted(tfidf_matrix[0], key=itemgetter(1))[:5]]"
   ]
  }
 ],
 "metadata": {
  "kernelspec": {
   "display_name": "Python 3",
   "language": "python",
   "name": "python3"
  },
  "language_info": {
   "codemirror_mode": {
    "name": "ipython",
    "version": 3
   },
   "file_extension": ".py",
   "mimetype": "text/x-python",
   "name": "python",
   "nbconvert_exporter": "python",
   "pygments_lexer": "ipython3",
   "version": "3.5.1"
  }
 },
 "nbformat": 4,
 "nbformat_minor": 0
}
