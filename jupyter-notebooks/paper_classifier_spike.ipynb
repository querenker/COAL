{
 "cells": [
  {
   "cell_type": "code",
   "execution_count": 14,
   "metadata": {
    "collapsed": true
   },
   "outputs": [],
   "source": [
    "import glob\n",
    "\n",
    "paper_files = glob.glob('./paper/*.pdf')\n",
    "non_paper_files = glob.glob('./non-paper/*.pdf')"
   ]
  },
  {
   "cell_type": "code",
   "execution_count": 15,
   "metadata": {
    "collapsed": false
   },
   "outputs": [],
   "source": [
    "labels = [0] * len(paper_files) + [1] * len(non_paper_files)"
   ]
  },
  {
   "cell_type": "code",
   "execution_count": 16,
   "metadata": {
    "collapsed": false
   },
   "outputs": [
    {
     "name": "stdout",
     "output_type": "stream",
     "text": [
      "./paper/1%20Eizirik%202003%20-%20Molecular%20genetics%20and%20evolution%20of%20melanism%20in%20the%20cat%20family.pdf\n",
      "./paper/335.full.pdf\n",
      "./paper/caprace.pdf\n",
      "./paper/Cat%20Predation%20Woods%20et%20al.pdf\n",
      "./paper/Cat-Eradication-Review.pdf\n",
      "./paper/catbasis.pdf\n",
      "./paper/Cupp%20133-149.pdf\n",
      "./paper/Derridas-Cat.pdf\n",
      "./paper/Dietary-Management-of-Cats-with-Hyperthyroidism-Concurrent-Renal-Disease-Final.pdf\n",
      "./paper/DomesticCat_Driscoll2007.pdf\n",
      "./paper/ec1781.pdf\n",
      "./paper/ECCV_CAT_PROC.pdf\n",
      "./paper/nokia_lte-m_-_optimizing_lte_for_the_internet_of_things_white_paper.pdf\n",
      "./paper/rankone.pdf\n",
      "./paper/stack_cat.pdf\n",
      "./non-paper/163405-cat-leaflet.pdf\n",
      "./non-paper/1995.15.un.pdf\n",
      "./non-paper/1st-cat-and-mouse.pdf\n",
      "./non-paper/50_cats.pdf\n",
      "./non-paper/70153-A-Cat-Owners-H.pdf\n",
      "./non-paper/acc.pdf\n",
      "./non-paper/Ambiguous-solution.pdf\n",
      "./non-paper/AVIH_checklist_111212_V2_WA_EN.pdf\n",
      "./non-paper/b15q-user-manual-final-engligh-ds.pdf\n",
      "./non-paper/big-cat-incidents.pdf\n",
      "./non-paper/BigCatsPublicSafety_0.pdf\n",
      "./non-paper/Black_Cat.pdf\n",
      "./non-paper/Body%20condition%20score%20chart%20cats.pdf\n",
      "./non-paper/c300manual.pdf\n",
      "./non-paper/CAT-4054-3-UK.pdf\n",
      "./non-paper/cat-and-mouse-a4.de.pdf\n",
      "./non-paper/CAT-C-GC-3_en.pdf\n",
      "./non-paper/cat-nms-plan-02-27-15.pdf\n",
      "./non-paper/Cat-to-VetHandout.pdf\n",
      "./non-paper/CAT.C.GC.2.CRP.1.Rev.4_en.pdf\n",
      "./non-paper/Cat.pdf\n",
      "./non-paper/cat_nutrition_final.pdf\n",
      "./non-paper/cat_setup.pdf\n",
      "./non-paper/CatBatteries.pdf\n",
      "./non-paper/CatDDO_Product_Note.pdf\n",
      "./non-paper/Category_5_Cat6A_ethernet.pdf\n",
      "./non-paper/CATest.pdf\n",
      "./non-paper/CATHCPUser%20guideEn.pdf\n",
      "./non-paper/catowners.pdf\n",
      "./non-paper/Catplot.pdf\n",
      "./non-paper/catscratch_F.pdf\n",
      "./non-paper/cattelephone.pdf\n",
      "./non-paper/ChestertheCatand.pdf\n",
      "./non-paper/cm_cat_bonds_demystified.pdf\n",
      "./non-paper/Consolidated%20unofficial%20AMC%26GM_Annex%20IV%20Part-CAT.pdf\n",
      "./non-paper/declawing.pdf\n",
      "./non-paper/EDC-SRI%20PegCat_Content_Study_Report.pdf\n",
      "./non-paper/escala-en-us.pdf\n",
      "./non-paper/eudogandcat_web.pdf\n",
      "./non-paper/FelineSeizures.pdf\n",
      "./non-paper/feral_cats.pdf\n",
      "./non-paper/FoodChartPublic9-22-12.pdf\n",
      "./non-paper/guide-to-cat-behavior-counseling.pdf\n",
      "./non-paper/handbook4_eng_04_part4.pdf\n",
      "./non-paper/identification-and-coat-colors-patterns.pdf\n",
      "./non-paper/Inappropriate_Scratching_in_Cats.pdf\n",
      "./non-paper/indoorcatmanual.pdf\n",
      "./non-paper/Joy_For_All_Care_Guide.pdf\n",
      "./non-paper/MBRC_minutes_Attachment_A.pdf\n",
      "./non-paper/media_274047_en.pdf\n",
      "./non-paper/Methods%20for%20the%20euthanasia%20of%20dogs%20and%20cats-%20English.pdf\n",
      "./non-paper/OmegaT_for_Beginners.pdf\n",
      "./non-paper/pb13332-cop-cats-091204.pdf\n",
      "./non-paper/PEBJ0078.pdf\n",
      "./non-paper/pehj0212-02.pdf\n",
      "./non-paper/Personality_Structure_in_the_Domestic_Cat.pdf\n",
      "./non-paper/petpol.pdf\n",
      "./non-paper/PGA_Manual_CAT100_200405.pdf\n",
      "./non-paper/Plat_Cat_Platinum_Accelerator.pdf\n",
      "./non-paper/Rhapsodies%20on%20a%20Cat-Piano.pdf\n",
      "./non-paper/s30-um-en.pdf\n",
      "./non-paper/SBCIS-CATDetailDescriptionv14.0.pdf\n",
      "./non-paper/SpecSheet_C1100XCTA.pdf\n",
      "./non-paper/Technical-data_DVI-Vision-CAT.pdf\n",
      "./non-paper/UCM304417.pdf\n",
      "./non-paper/VL100_v2_E.pdf\n"
     ]
    },
    {
     "name": "stderr",
     "output_type": "stream",
     "text": [
      "PdfReadWarning: Xref table not zero-indexed. ID numbers for objects will be corrected. [pdf.py:1736]\n"
     ]
    }
   ],
   "source": [
    "from PyPDF2 import PdfFileReader\n",
    "\n",
    "features = []\n",
    "for file in paper_files + non_paper_files:\n",
    "        print(file)\n",
    "        pdf_reader = PdfFileReader(open(file, 'rb'))\n",
    "        page_number = pdf_reader.getNumPages()\n",
    "        features.append([page_number])"
   ]
  },
  {
   "cell_type": "code",
   "execution_count": 27,
   "metadata": {
    "collapsed": false
   },
   "outputs": [
    {
     "name": "stdout",
     "output_type": "stream",
     "text": [
      "[1]\n"
     ]
    }
   ],
   "source": [
    "from sklearn import tree\n",
    "\n",
    "clf = tree.DecisionTreeClassifier()\n",
    "clf = clf.fit(features, labels)\n",
    "print(clf.predict([[123]]))"
   ]
  },
  {
   "cell_type": "code",
   "execution_count": null,
   "metadata": {
    "collapsed": true
   },
   "outputs": [],
   "source": []
  }
 ],
 "metadata": {
  "kernelspec": {
   "display_name": "Python 3",
   "language": "python",
   "name": "python3"
  },
  "language_info": {
   "codemirror_mode": {
    "name": "ipython",
    "version": 3
   },
   "file_extension": ".py",
   "mimetype": "text/x-python",
   "name": "python",
   "nbconvert_exporter": "python",
   "pygments_lexer": "ipython3",
   "version": "3.5.1"
  }
 },
 "nbformat": 4,
 "nbformat_minor": 0
}
