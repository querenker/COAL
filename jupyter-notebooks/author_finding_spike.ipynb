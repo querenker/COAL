{
 "cells": [
  {
   "cell_type": "code",
   "execution_count": 38,
   "metadata": {
    "collapsed": true
   },
   "outputs": [],
   "source": [
    "stop_words = 'bureau univ school department'.split()"
   ]
  },
  {
   "cell_type": "code",
   "execution_count": 101,
   "metadata": {
    "collapsed": false
   },
   "outputs": [],
   "source": [
    "class AuthorCandidate:\n",
    "    def __init__(self, value, confidence):\n",
    "        self.value = value\n",
    "        self.confidence = confidence\n",
    "        \n",
    "    def __repr__(self):\n",
    "        return 'AuthorCandidate(' + self.value + ', ' + str(self.confidence) +')'\n",
    "        \n",
    "    #def __le__(self, other):\n",
    "     #   return cmp(self.confidence, other.confidence)"
   ]
  },
  {
   "cell_type": "code",
   "execution_count": 135,
   "metadata": {
    "collapsed": false
   },
   "outputs": [
    {
     "name": "stdout",
     "output_type": "stream",
     "text": [
      "[AuthorCandidate(Decision Making through Polarized, 0), AuthorCandidate(Summarization of User Reviews, 0), AuthorCandidate(Paolo Cremonesi <paolo.cremonesi@polimi.it>,, 44), AuthorCandidate(Franca Garzotto <franco.garzotto@polimi.it>,, 44), AuthorCandidate(Matteo Guarnerio <matteo.guarnerio@mail.polimi.it>,, 51)]\n",
      "[AuthorCandidate(Linked Edit Rules: A Web Friendly Way of, 0), AuthorCandidate(Checking Quality of RDF Data Cubes, 0), AuthorCandidate(Albert Meroño-Peñuela1,2 , Christophe Guéret2 , and Stefan Schlobach1, 621), AuthorCandidate(1, 0), AuthorCandidate(, 0)]\n",
      "[AuthorCandidate(Modeling the Statistical Process with Linked Metadata, 0), AuthorCandidate(Franck Cotton and Daniel W. Gillman, 0), AuthorCandidate(INSEE, Paris, France, 80), AuthorCandidate(franck.cotton@insee.fr, 0), AuthorCandidate(US Bureau of Labor Statistics, Washington, USA, 0)]\n",
      "[AuthorCandidate(What is Special about Bethlehem, Pennsylvania?, 46), AuthorCandidate(Identifying Unexpected Facts about DBpedia Entities, 0), AuthorCandidate(Benjamin Schäfer, Petar Ristoski, and Heiko Paulheim, 212), AuthorCandidate(University of Mannheim, Germany, 0), AuthorCandidate(Research Group Data and Web Science, 0)]\n",
      "[AuthorCandidate(FRanCo – A Ground Truth Corpus for, 0), AuthorCandidate(Fact Ranking Evaluation, 0), AuthorCandidate(Tamara Bobić, Jörg Waitelonis, and Harald Sack, 192), AuthorCandidate(Hasso-Plattner-Institute,, 25), AuthorCandidate(Prof.-Dr.-Helmert-Str. 2-3,, 27)]\n",
      "[AuthorCandidate(The Curse of Finiteness: Undecidability of, 0), AuthorCandidate(Database-Inspired Reasoning Problems in, 0), AuthorCandidate(Very Expressive Description Logics?, 0), AuthorCandidate(Sebastian Rudolph, 0), AuthorCandidate(TU Dresden, 0)]\n",
      "[AuthorCandidate(Reasoning in a Rational Extension of SROEL(u, ×), 48), AuthorCandidate((Extended Abstract), 0), AuthorCandidate(Laura Giordano and Daniele Theseider Dupré, 0), AuthorCandidate(DISIT - Università del Piemonte Orientale, Alessandria, Italy, 0), AuthorCandidate(laura.giordano@uniupo.it, dtd@di.unipmn.it, 42)]\n",
      "[AuthorCandidate(Data accuracy as knowledge in ontology based data, 0), AuthorCandidate(access (preliminary report), 0), AuthorCandidate(Marco Console, 0), AuthorCandidate(Dipartimento di Ing. Informatica, Automatica e Gestionale “Antonio Ruberti”, 75), AuthorCandidate(S APIENZA Università di Roma, 0)]\n",
      "[AuthorCandidate(Learning the Role and Behavior of Users in, 0), AuthorCandidate(Group Decision Making, 0), AuthorCandidate(Dimitris Sacharidis1 , Amra Delic1 , and Julia Neidhardt1, 228), AuthorCandidate(E-Commerce Group, 0), AuthorCandidate(Technische Universität Wien, Austria,, 0)]\n",
      "[AuthorCandidate(StoryBlink, 0), AuthorCandidate(a Semantic Web Approach for Linking Stories, 0), AuthorCandidate(Ben De Meester, Tom De Nies, Laurens De Vocht,, 414), AuthorCandidate(Ruben Verborgh, Erik Mannens, and Rik Van de Walle, 200), AuthorCandidate(Ghent University – iMinds – Multimedia Lab, Belgium, 0)]\n",
      "[AuthorCandidate(Lily Results for OAEI 2015, 0), AuthorCandidate(Wenyu Wang1,2 , Peng Wang1, 104), AuthorCandidate(1, 0), AuthorCandidate(, 0), AuthorCandidate(School of Computer Science and Engineering, Southeast University, China, 0)]\n",
      "[AuthorCandidate(InsMT+ Results for OAEI 2015 Instance Matching, 0), AuthorCandidate(Abderrahmane Khiat1 , Moussa Benaissa1, 38), AuthorCandidate(LITIO Laboratory, University of Oran1 Ahmed Ben Bella, Oran, Algeria, 0), AuthorCandidate(abderrahmane khiat@yahoo.com , moussabenaissa@yahoo.fr, 54), AuthorCandidate(, 0)]\n",
      "[AuthorCandidate(On learning from taxi-GPS traces, 0), AuthorCandidate(João Mendes-Moreira1 and Luı́s Moreira-Matias2, 0), AuthorCandidate(1, 0), AuthorCandidate(, 0), AuthorCandidate(1, 0)]\n",
      "[AuthorCandidate(Linked Data for Libraries: A Project Update, 0), AuthorCandidate(Dean B. Krafft, 0), AuthorCandidate(Cornell University Library, Ithaca, NY, 0), AuthorCandidate(dean.krafft@cornell.edu, 0), AuthorCandidate(, 0)]\n",
      "[AuthorCandidate(Is Query Inseparability for ALC Ontologies Decidable?, 0), AuthorCandidate(E. Botoeva,1 C. Lutz,2 V. Ryzhikov,1 F. Wolter3 and M. Zakharyaschev4, 621), AuthorCandidate(1, 0), AuthorCandidate(, 0), AuthorCandidate(1, 0)]\n",
      "[AuthorCandidate(Enhancing Dataset Quality Using Keys, 0), AuthorCandidate(Tommaso Soru, Edgard Marx, and Axel-Cyrille Ngonga Ngomo, 224), AuthorCandidate({tsoru,marx,ngonga}@informatik.uni-leipzig.de, 180), AuthorCandidate(AKSW, Department of Computer Science, University of Leipzig, 0), AuthorCandidate(, 0)]\n",
      "[AuthorCandidate(Theoretically Optimal Datalog Rewritings for, 0), AuthorCandidate(OWL 2 QL Ontology-Mediated Queries, 0), AuthorCandidate(M. Bienvenu1, S. Kikot2, R. Kontchakov2, V. Podolskii3, and M. Zakharyaschev2, 1232), AuthorCandidate(1, 0), AuthorCandidate(, 0)]\n",
      "[AuthorCandidate(Invited Speaker, November 19: Dr. Mark Hartong, 46), AuthorCandidate(, 0), AuthorCandidate(Positive Train Control Critical Infrastructure, 0), AuthorCandidate(Positive Train Control (PTC) is a supervisory control and data acquisition system designed to protect against loss, 0), AuthorCandidate(of locomotive crew situational awareness that could result in train-to-train collision, train derailments due to excessive speed, train incursion into roadway work zones, and train movements through misaligned switches. Multiple, 2052)]\n",
      "[AuthorCandidate(Design Criteria to Model Groups in Big Data, 0), AuthorCandidate(Scenarios: Algorithms and Best Practices?, 0), AuthorCandidate(Ludovico Boratto, Gianni Fenu, and Pier Luigi Pau, 196), AuthorCandidate(Dipartimento di Matematica e Informatica,, 41), AuthorCandidate(Università di Cagliari, Via Ospedale 72 - 09124 Cagliari, Italy, 0)]\n",
      "[AuthorCandidate(Ontologies and the Cultural Heritage. The case of GO!, 0), AuthorCandidate(1, 0), AuthorCandidate(, 0), AuthorCandidate(1, 0), AuthorCandidate(, 0)]\n"
     ]
    }
   ],
   "source": [
    "import os\n",
    "\n",
    "texts = []\n",
    "text_directory = './texts/'\n",
    "for file in sorted(os.listdir(text_dictionary))[0:20]:\n",
    "    with open(text_directory + file) as f:\n",
    "        author_candidates = find_author_candidates(f.read().split('\\n')[:5])\n",
    "        check_author_name_pattern(author_candidates)\n",
    "        print(author_candidates)"
   ]
  },
  {
   "cell_type": "code",
   "execution_count": 120,
   "metadata": {
    "collapsed": false
   },
   "outputs": [],
   "source": [
    "def find_author_candidates(textchunk):\n",
    "    author_candidates = [AuthorCandidate(line, 1) for line in textchunk]\n",
    "    for author_candidate in author_candidates:\n",
    "        if author_candidate.value == '':\n",
    "            author_candidate.confidence = 0\n",
    "        for stop_word in stop_words:\n",
    "            if stop_word in author_candidate.value.lower():\n",
    "                author_candidate.confidence = 0\n",
    "                break\n",
    "    return [AuthorCandidate(x.value, x.confidence * len(x.value) * x.value.count(',')**2)\n",
    "            for x in author_candidates]"
   ]
  },
  {
   "cell_type": "code",
   "execution_count": 132,
   "metadata": {
    "collapsed": false
   },
   "outputs": [],
   "source": [
    "def check_author_name_pattern(author_candidates):\n",
    "    for author_candidate in author_candidates:\n",
    "        if len(author_candidate.value) > 0 and author_candidate.value.replace('and', '').split()[0].isupper():\n",
    "            author_candidate.confidence *= 10"
   ]
  },
  {
   "cell_type": "code",
   "execution_count": null,
   "metadata": {
    "collapsed": true
   },
   "outputs": [],
   "source": []
  }
 ],
 "metadata": {
  "kernelspec": {
   "display_name": "Python 3",
   "language": "python",
   "name": "python3"
  },
  "language_info": {
   "codemirror_mode": {
    "name": "ipython",
    "version": 3
   },
   "file_extension": ".py",
   "mimetype": "text/x-python",
   "name": "python",
   "nbconvert_exporter": "python",
   "pygments_lexer": "ipython3",
   "version": "3.5.1"
  }
 },
 "nbformat": 4,
 "nbformat_minor": 0
}
