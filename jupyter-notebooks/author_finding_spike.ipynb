{
 "cells": [
  {
   "cell_type": "code",
   "execution_count": 38,
   "metadata": {
    "collapsed": true
   },
   "outputs": [],
   "source": [
    "stop_words = 'bureau univ school department'.split()"
   ]
  },
  {
   "cell_type": "code",
   "execution_count": 101,
   "metadata": {
    "collapsed": false
   },
   "outputs": [],
   "source": [
    "class AuthorCandidate:\n",
    "    def __init__(self, value, confidence):\n",
    "        self.value = value\n",
    "        self.confidence = confidence\n",
    "        \n",
    "    def __repr__(self):\n",
    "        return 'AuthorCandidate(' + self.value + ', ' + str(self.confidence) +')'\n",
    "        \n",
    "    #def __le__(self, other):\n",
    "     #   return cmp(self.confidence, other.confidence)"
   ]
  },
  {
   "cell_type": "code",
   "execution_count": 113,
   "metadata": {
    "collapsed": false
   },
   "outputs": [
    {
     "name": "stdout",
     "output_type": "stream",
     "text": [
      "1088eae802bf9126d16a7a2dc18035dc.ttl.data.txt AuthorCandidate(Matteo Guarnerio <matteo.guarnerio@mail.polimi.it>,, 51)\n",
      "1107dd6ff8999463110aebbb1f91a6ec.ttl.data.txt AuthorCandidate(Albert Meroño-Peñuela1,2 , Christophe Guéret2 , and Stefan Schlobach1, 621)\n",
      "1148df9b444a5651e0fb42f7d6f149e4.ttl.data.txt AuthorCandidate(INSEE, Paris, France, 80)\n",
      "1181f35d70c9feee24eed86de502a44f.ttl.data.txt AuthorCandidate(Benjamin Schäfer, Petar Ristoski, and Heiko Paulheim, 212)\n",
      "11f6e3dbfac16cf73cc050b7e4d61dc3.ttl.data.txt AuthorCandidate(Tamara Bobić, Jörg Waitelonis, and Harald Sack, 192)\n",
      "156a7449f7e71bf8cac803b5f3900ddd.ttl.data.txt AuthorCandidate(TU Dresden, 0)\n",
      "15d490b9a7e893216ccf05d0b350b324.ttl.data.txt AuthorCandidate(Reasoning in a Rational Extension of SROEL(u, ×), 48)\n",
      "164be56a5c10d1ddce89c178959a1c15.ttl.data.txt AuthorCandidate(Dipartimento di Ing. Informatica, Automatica e Gestionale “Antonio Ruberti”, 75)\n",
      "16fb25afcc80c034f79ef004c41c8c71.ttl.data.txt AuthorCandidate(Dimitris Sacharidis1 , Amra Delic1 , and Julia Neidhardt1, 228)\n",
      "1754b8e67a4d2a3964380b87313c3b60.ttl.data.txt AuthorCandidate(Ben De Meester, Tom De Nies, Laurens De Vocht,, 414)\n",
      "179e04595e34a34004b15ac97384555e.ttl.data.txt AuthorCandidate(Wenyu Wang1,2 , Peng Wang1, 104)\n",
      "17aaee5b30205b80e4a06218fd385e4a.ttl.data.txt AuthorCandidate(abderrahmane khiat@yahoo.com , moussabenaissa@yahoo.fr, 54)\n",
      "17d31b92a1761c27e7088899d54463de.ttl.data.txt AuthorCandidate(1, 0)\n",
      "1848bd5a0b717b0252943a0a3b955867.ttl.data.txt AuthorCandidate(, 0)\n",
      "188ae72e97b26a658ca86bdd28cf84d6.ttl.data.txt AuthorCandidate(E. Botoeva,1 C. Lutz,2 V. Ryzhikov,1 F. Wolter3 and M. Zakharyaschev4, 621)\n",
      "18960cb6da65bd9444f141336210294d.ttl.data.txt AuthorCandidate(Tommaso Soru, Edgard Marx, and Axel-Cyrille Ngonga Ngomo, 224)\n",
      "18baed05157a6daec5e0dee518aab7e8.ttl.data.txt AuthorCandidate(M. Bienvenu1, S. Kikot2, R. Kontchakov2, V. Podolskii3, and M. Zakharyaschev2, 1232)\n",
      "1978c9e067c84776ae09240aa42b35ef.ttl.data.txt AuthorCandidate(of locomotive crew situational awareness that could result in train-to-train collision, train derailments due to excessive speed, train incursion into roadway work zones, and train movements through misaligned switches. Multiple, 2052)\n",
      "1a5b779f912564ea3192570c14f17d7c.ttl.data.txt AuthorCandidate(Ludovico Boratto, Gianni Fenu, and Pier Luigi Pau, 196)\n",
      "1c1afc257ce358213ec920458aa86c4c.ttl.data.txt AuthorCandidate(, 0)\n"
     ]
    }
   ],
   "source": [
    "import os\n",
    "\n",
    "texts = []\n",
    "text_directory = './texts/'\n",
    "for file in sorted(os.listdir(text_dictionary))[0:20]:\n",
    "    with open(text_directory + file) as f:\n",
    "        print(file, find_author(f.read().split('\\n')[:5]))"
   ]
  },
  {
   "cell_type": "code",
   "execution_count": 112,
   "metadata": {
    "collapsed": false
   },
   "outputs": [],
   "source": [
    "from operator import itemgetter\n",
    "\n",
    "def find_author(textchunk):\n",
    "    author_candidates = [AuthorCandidate(line, 1) for line in textchunk]\n",
    "    for author_candidate in author_candidates:\n",
    "        if author_candidate.value == '':\n",
    "            author_candidate.confidence = 0\n",
    "        for stop_word in stop_words:\n",
    "            if stop_word in author_candidate.value.lower():\n",
    "                author_candidate.confidence = 0\n",
    "                break\n",
    "    return sorted([AuthorCandidate(x.value, x.confidence * len(x.value) * x.value.count(',')**2)\n",
    "            for x in author_candidates], key=lambda x: x.confidence)[-1]"
   ]
  },
  {
   "cell_type": "code",
   "execution_count": null,
   "metadata": {
    "collapsed": true
   },
   "outputs": [],
   "source": []
  }
 ],
 "metadata": {
  "kernelspec": {
   "display_name": "Python 3",
   "language": "python",
   "name": "python3"
  },
  "language_info": {
   "codemirror_mode": {
    "name": "ipython",
    "version": 3
   },
   "file_extension": ".py",
   "mimetype": "text/x-python",
   "name": "python",
   "nbconvert_exporter": "python",
   "pygments_lexer": "ipython3",
   "version": "3.5.1"
  }
 },
 "nbformat": 4,
 "nbformat_minor": 0
}
